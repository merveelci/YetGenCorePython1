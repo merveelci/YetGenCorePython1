{
  "cells": [
    {
      "cell_type": "markdown",
      "metadata": {
        "id": "tsD4YVAe_Te2"
      },
      "source": [
        "# Problem 1\n",
        "Bir sayının 7'ye bölünebilir olup olmadığını kontrol etmek \n",
        "için bir program yazın.\n",
        "\n",
        "İpucu: Mod operatörünü (%) kullanabilirsiniz."
      ]
    },
    {
      "cell_type": "code",
      "execution_count": 4,
      "metadata": {
        "id": "NGjvNwKx_Te7"
      },
      "outputs": [
        {
          "name": "stdout",
          "output_type": "stream",
          "text": [
            "12 sayısı 7'ye tam bölünmez\n"
          ]
        }
      ],
      "source": [
        "# 1.Problemin Çözümünü Buraya Yazınız\n",
        "x=int(input(\"Bir sayı giriniz:\"))\n",
        "if x%7 ==0:\n",
        "  print(f\"{x} sayısı 7'ye tam bölünür\")\n",
        "else:\n",
        "  print(f\"{x} sayısı 7'ye tam bölünmez\")"
      ]
    },
    {
      "cell_type": "markdown",
      "metadata": {
        "id": "Kg3qiBAI_Te8"
      },
      "source": [
        "# Problem 2\n",
        "Kullanıcıdan vize ve final notu isteyin. Girilen vize notunun %40’ı ve \n",
        "girilen finalnotunun ise %60’ı alınarak yıl sonu not ortalaması hesaplanacaktır. \n",
        "\n",
        "Bu not ortalaması eğer 85 ve üzeri ise AA, \n",
        "\n",
        "75 ve 85 arasında ise BA, \n",
        "\n",
        "70 ve 75 arasında ise BB, \n",
        "\n",
        "65 ve 70 arasında ise CB,\n",
        "\n",
        "60 ve 65 arasında ise CC,\n",
        "\n",
        "55 ve 60 arasında ise DC,\n",
        "\n",
        "50 ve 55 arasında ise DD olarak hesaplanacaktır. \n",
        "\n",
        "Bu öğrencinin yıl sonu toplam notu 50’nin altında ise FF ile dersten kalacaktır. \n",
        "\n",
        "Ayrıca öğrencinin final notu 50’nin altında ise direkt FF ile kalacaktır."
      ]
    },
    {
      "cell_type": "code",
      "execution_count": 18,
      "metadata": {
        "id": "MXTtCxI1_Te8"
      },
      "outputs": [
        {
          "ename": "TypeError",
          "evalue": "'>=' not supported between instances of 'tuple' and 'int'",
          "output_type": "error",
          "traceback": [
            "\u001b[1;31m---------------------------------------------------------------------------\u001b[0m",
            "\u001b[1;31mTypeError\u001b[0m                                 Traceback (most recent call last)",
            "Cell \u001b[1;32mIn[18], line 6\u001b[0m\n\u001b[0;32m      4\u001b[0m ortalama\u001b[39m=\u001b[39m(\u001b[39mfloat\u001b[39m(vize)\u001b[39m*\u001b[39m\u001b[39m0\u001b[39m,\u001b[39m4\u001b[39m)\u001b[39m+\u001b[39m(\u001b[39mfloat\u001b[39m(final)\u001b[39m*\u001b[39m\u001b[39m0\u001b[39m,\u001b[39m6\u001b[39m)\n\u001b[0;32m      5\u001b[0m \u001b[39mif\u001b[39;00m final\u001b[39m>\u001b[39m\u001b[39m=\u001b[39m\u001b[39m50\u001b[39m:\n\u001b[1;32m----> 6\u001b[0m   \u001b[39mif\u001b[39;00m(ortalama)\u001b[39m>\u001b[39;49m\u001b[39m=\u001b[39;49m\u001b[39m85\u001b[39;49m:\n\u001b[0;32m      7\u001b[0m      \u001b[39mprint\u001b[39m(\u001b[39m\"\u001b[39m\u001b[39mAA ile geçtiniz\u001b[39m\u001b[39m\"\u001b[39m)\n\u001b[0;32m      9\u001b[0m   \u001b[39melif\u001b[39;00m ortalama\u001b[39m>\u001b[39m\u001b[39m=\u001b[39m\u001b[39m75\u001b[39m \u001b[39mand\u001b[39;00m ortalama\u001b[39m<\u001b[39m\u001b[39m85\u001b[39m:\n",
            "\u001b[1;31mTypeError\u001b[0m: '>=' not supported between instances of 'tuple' and 'int'"
          ]
        }
      ],
      "source": [
        "# 2.Problemin Çözümünü Buraya Yazınız\n",
        "vize=float(input(\"Vize notunuzu giriniz:\"))\n",
        "final=float(input(\"Final notunu giriniz:\"))\n",
        "ortalama=(float(vize)*0,4)+(float(final)*0,6)\n",
        "if final>=50:\n",
        "  if(ortalama)>=85:\n",
        "     print(\"AA ile geçtiniz\")\n",
        "\n",
        "  elif ortalama>=75 and ortalama<85:\n",
        "     print(\"BA ile geçtiniz\")\n",
        "\n",
        "  elif ortalama>=70 and ortalama<75:\n",
        "     print(\"BB ile geçtiniz\")\n",
        "\n",
        "  elif ortalama>=65 and ortalama<70:\n",
        "     print(\"CB ile geçtiniz\")\n",
        "\n",
        "  elif ortalama>=60 and ortalama<65:\n",
        "     print(\"CC ile geçtiniz\")   \n",
        "\n",
        "  elif ortalama>=55 and ortalama<60:\n",
        "     print(\"DC ile geçtiniz\")\n",
        "\n",
        "  elif ortalama>=50 and ortalama<55:\n",
        "     print(\"DD ile geçtiniz\")\n",
        "else:\n",
        "  print(\"FFile kaldınız\")       "
      ]
    },
    {
      "cell_type": "markdown",
      "metadata": {
        "id": "tAoRYCTC_Te8"
      },
      "source": [
        "# Problem 3\n",
        "İki YetGenli Zirve'de karşılaşıyorlar. Birbirlerini tanımak için sorular soruyorlar. Birbirlerine yaşlarını soruyorlar. Akıllarına bir Python programı yazıp, yaşlarını ve isimlerini giriyorlar. Büyük olanın yaşını ekrana yazdıran programı yazıyorlar. Sende bu iki YetGenli'ye destek olmak ister misin?\n",
        "\n",
        "```\n",
        "Birinci YetGenlinin ismi: Ahmet\n",
        "Birinci YetGenlinin yaşı : 20\n",
        "İkinci YetGenlinin ismi: Mehmet\n",
        "İkinci YetGenlinin yaşı : 25\n",
        "Mehmet'in yaşı daha büyük ve yaşı 25'tir.\n",
        "```"
      ]
    },
    {
      "cell_type": "code",
      "execution_count": 7,
      "metadata": {
        "id": "bPjE8W0i_Te8"
      },
      "outputs": [
        {
          "name": "stdout",
          "output_type": "stream",
          "text": [
            "\n",
            "\n"
          ]
        },
        {
          "ename": "NameError",
          "evalue": "name 'vize' is not defined",
          "output_type": "error",
          "traceback": [
            "\u001b[1;31m---------------------------------------------------------------------------\u001b[0m",
            "\u001b[1;31mNameError\u001b[0m                                 Traceback (most recent call last)",
            "Cell \u001b[1;32mIn[7], line 5\u001b[0m\n\u001b[0;32m      2\u001b[0m final \u001b[39m=\u001b[39m \u001b[39mfloat\u001b[39m(\u001b[39minput\u001b[39m(\u001b[39m'\u001b[39m\u001b[39mLütfen final notunuzu giriniz : \u001b[39m\u001b[39m'\u001b[39m))\n\u001b[0;32m      4\u001b[0m \u001b[39mprint\u001b[39m(\u001b[39m\"\u001b[39m\u001b[39m\\n\u001b[39;00m\u001b[39m\"\u001b[39m)\n\u001b[1;32m----> 5\u001b[0m ortalama\u001b[39m=\u001b[39m(\u001b[39mfloat\u001b[39m(vize)\u001b[39m*\u001b[39m\u001b[39m0.3\u001b[39m)\u001b[39m+\u001b[39m(\u001b[39mfloat\u001b[39m(final)\u001b[39m*\u001b[39m\u001b[39m0.7\u001b[39m)\n\u001b[0;32m      7\u001b[0m \u001b[39mif\u001b[39;00m final\u001b[39m>\u001b[39m\u001b[39m=\u001b[39m\u001b[39m50\u001b[39m:\n\u001b[0;32m      8\u001b[0m     \u001b[39mif\u001b[39;00m(ortalama\u001b[39m>\u001b[39m\u001b[39m=\u001b[39m\u001b[39m85\u001b[39m \u001b[39mand\u001b[39;00m final\u001b[39m>\u001b[39m\u001b[39m=\u001b[39m\u001b[39m50\u001b[39m):\n",
            "\u001b[1;31mNameError\u001b[0m: name 'vize' is not defined"
          ]
        }
      ],
      "source": [
        "# 3.Problemin Çözümünü Buraya Yazınızvize = float(input(' Lütfen vize notunuzu giriniz : '))\n",
        "\n"
      ]
    },
    {
      "cell_type": "markdown",
      "metadata": {
        "id": "zBVv8Tyg_Te9"
      },
      "source": [
        "# Problem 4\n",
        "Pandemi döneminde AVM'lerde ateş ölçümü yapılıyor. AVM'ye giren kişinin ateş ölçümü 37.5 derecenin altında ise girişe izin veriliyor. 37.5 derecenin üstünde ise girişe izin verilmiyor. AVM'ye girişe izin verilip verilmediğini ekrana yazdıran bir program yazın.\n",
        "\n",
        "Program sonunda şöyle bir çıktı elde etmelisiniz:\n",
        "\n",
        "```\n",
        "Ateşiniz 37.5 derece. AVM'ye girebilirsin! Maske takmayı unutma!\n",
        "Ateşiniz 37.6 derece. AVM'ye giremezsin! Hemen evine dön!\n",
        "```"
      ]
    },
    {
      "cell_type": "code",
      "execution_count": null,
      "metadata": {
        "id": "TSAXs8et_Te9"
      },
      "outputs": [],
      "source": [
        "# 4.Problemin Çözümünü Buraya Yazınız"
      ]
    },
    {
      "cell_type": "markdown",
      "metadata": {
        "id": "6AEkZrDt_Te9"
      },
      "source": [
        "# Problem 5\n",
        "YetGen bir spor kulübüyle sponsorluk anlaşması yapıyor. Kulüp, sponsorluk anlaşmasına göre her YetGen liderinin beden kitle indeksini hesaplamak istiyor. Spor kulübü, beden kitle indeksini hesaplamak için YetGen Jump Python liderlerinden Berkcan ve Ahmet'i arıyor. Berkcan ve Ahmet, kulübe yardımcı olmak için bir Python programı yazıyorlar. Sende bu iki YetGen liderine destek olmak ister misin?\n",
        "\n",
        "Kullanıcıdan alınan boy ve kilo değerlerine göre beden kitle indeksini hesaplayın ve şu kurallara göre ekrana şu yazıları yazdırın.\n",
        "\n",
        "\n",
        "Beden Kitle İndeksi, kişinin ağırlığının (kg olarak) boyunun karesine (m olarak) bölünmesiyle hesaplanır.\n",
        "\n",
        "\n",
        "```\n",
        " BKİ 18.5'un altındaysa -------> Zayıf\n",
        "\n",
        " BKİ 18.5 ile 25 arasındaysa ------> Normal\n",
        "\n",
        " BKİ 25 ile 30 arasındaysa --------> Fazla Kilolu\n",
        "\n",
        " BKİ 30'un üstündeyse -------------> Obez\n",
        "```\n",
        "\n"
      ]
    },
    {
      "cell_type": "code",
      "execution_count": null,
      "metadata": {
        "id": "t-XPI_u0_Te-"
      },
      "outputs": [],
      "source": [
        "# 5.Problemin Çözümünü Buraya Yazınız"
      ]
    },
    {
      "cell_type": "markdown",
      "metadata": {
        "id": "oFsvQyaO_Te-"
      },
      "source": [
        "# Problem 6\n",
        "Kullanıcıdan isim, yaş ve eğitim bilgilerini isteyip ehliyet alabilme  durumunu kontrol ediniz. \n",
        "\n",
        "Ehliyet alma koşulu en az 18 yaşında ve eğitim durumu lise ya da üniversite olmalıdır. "
      ]
    },
    {
      "cell_type": "code",
      "execution_count": null,
      "metadata": {
        "id": "Tu2mcgco_Te-"
      },
      "outputs": [],
      "source": [
        "# 6.Problemin Çözümünü Buraya Yazınız"
      ]
    },
    {
      "cell_type": "markdown",
      "metadata": {
        "id": "eUkxVSAE_Te_"
      },
      "source": [
        "# Problem 7\n",
        "Bir yılın artık yıl olup olmadığını kontrol etmek için bir program yazın. \n",
        "Artık yıl kuralı:\n",
        "\n",
        "a) Eğer yılın son iki basamağı (00) ile bitmiyor ve yalnızca 4'e tam bölünüyorsa artık yıldır. Ya da, \n",
        "\n",
        "b) Eğer yıl 400'e tam bölünüyorsa artık yıldır.\n",
        "\n",
        "**Örneğin**\n",
        "```\n",
        "2017 artık yıl değildir.\n",
        "1900 artık yıl değildir\n",
        "2012 artık yıldır.\n",
        "2000 artık yıldır.\n",
        "```"
      ]
    },
    {
      "cell_type": "code",
      "execution_count": null,
      "metadata": {
        "id": "4uWh8qUL_Te_"
      },
      "outputs": [],
      "source": [
        "# 7.Problemin Çözümünü Buraya Yazınız"
      ]
    }
  ],
  "metadata": {
    "colab": {
      "provenance": []
    },
    "kernelspec": {
      "display_name": "Python 3.10.5 64-bit",
      "language": "python",
      "name": "python3"
    },
    "language_info": {
      "codemirror_mode": {
        "name": "ipython",
        "version": 3
      },
      "file_extension": ".py",
      "mimetype": "text/x-python",
      "name": "python",
      "nbconvert_exporter": "python",
      "pygments_lexer": "ipython3",
      "version": "3.11.2"
    },
    "orig_nbformat": 4,
    "vscode": {
      "interpreter": {
        "hash": "5026d2d6e7aaaaba093def813beadff083d8733e4a511af01735cbabd156995d"
      }
    }
  },
  "nbformat": 4,
  "nbformat_minor": 0
}
