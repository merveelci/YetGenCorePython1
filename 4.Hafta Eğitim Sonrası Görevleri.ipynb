{
 "cells": [
  {
   "cell_type": "markdown",
   "metadata": {},
   "source": [
    "# Problem 1\n",
    "`ogrenciler` adında bir sözlük oluşturunuz. Kullanıcıdan döngü yardımıyla 3 öğrenci için veri girmesini isteyerek öğrencilerin sırasıyla okul numarası, isim, soy isim, telefon numarası ve doğum tarihi bilgilerini alınız. Aldığınız öğrenci bilgilerini yine aynı döngü yardımıyla `ogrenciler` adındaki sözlükte saklayınız. Daha sonra öğrenci bilgilerinin bulunduğu sözlük yapısını ekrana bastırınız.\n",
    "\n"
   ]
  },
  {
   "cell_type": "code",
   "execution_count": 3,
   "metadata": {},
   "outputs": [
    {
     "name": "stdout",
     "output_type": "stream",
     "text": [
      "--------------------\n",
      "--------------------\n",
      "--------------------\n",
      "{1: {'No': '451', 'isim': 'merve', 'soyisim': 'elçi', 'telefon numarası': '0533', 'Doğum Tarihi': '2004'}, 2: {'No': '451', 'isim': 'hatice', 'soyisim': 'elçi', 'telefon numarası': '066', 'Doğum Tarihi': '1966'}, 3: {'No': '15676', 'isim': 'tuğba', 'soyisim': 'elçi', 'telefon numarası': '0544', 'Doğum Tarihi': '2000'}}\n"
     ]
    }
   ],
   "source": [
    "# 1.Problemin Çözümünü Buraya Yazınız\n",
    "ogrenciler={} #boş sözlük oluştur\n",
    "for i in range(1,4): #döngüde 3 öğrenci bilgisi \n",
    "    okulNo= input(\"Okul Numarası Giriniz:\")\n",
    "    isim= input(\"İsim Gİriniz:\")\n",
    "    soyisim= input(\"Soyisim Giriniz:\")\n",
    "    telefon= input(\"Telefon Numarası Giriniz:\")\n",
    "    dogumTarihi= input(\"Doğum Tarihi Giriniz:\")\n",
    "    print(\"--------------------\")\n",
    "    ogrenciler[i]={ #sözlüğe verileri ekleme\n",
    "     \"No\" : okulNo,\n",
    "     \"isim\" : isim,\n",
    "     \"soyisim\": soyisim,\n",
    "     \"telefon numarası\": telefon,\n",
    "     \"Doğum Tarihi\" : dogumTarihi  \n",
    "    }\n",
    "print(ogrenciler)"
   ]
  },
  {
   "cell_type": "markdown",
   "metadata": {},
   "source": [
    "# Problem 2\n",
    "\n",
    "### a - Biraz ısınarak başlayalım!\n",
    "\n",
    "```\n",
    "numbers = [5,10,10,15,15,15,20,20,20,20]\n",
    "```\n",
    "\n",
    "Yukarıda `numbers` adında 10 elemanlı bir liste verilmiştir. Bu listenin her elemanını kontrol eden ve tekrar eden elemanları bir kez olacak şekilde başka bir listeye kopyalayan bir program yazınız. Son olarak oluşturduğunuz listeyi ekrana bastırınız.\n",
    "\n",
    "\n",
    "\n",
    "\n",
    "```\n",
    ">Output\n",
    "[5, 10, 15, 20]\n",
    "```\n"
   ]
  },
  {
   "cell_type": "code",
   "execution_count": 10,
   "metadata": {},
   "outputs": [
    {
     "name": "stdout",
     "output_type": "stream",
     "text": [
      "[[5, 10, 10, 15, 15, 15, 20, 20, 20, 20]]\n"
     ]
    }
   ],
   "source": [
    "# 2.Problemin a Şıkkının Çözümünü Buraya Yazınız\n",
    "numbers= [5,10,10,15,15,15,20,20,20,20]\n",
    "unique=[] #boş liste oluştur\n",
    "for i in numbers:\n",
    "    if numbers in unique: #unique içindeyse devam et\n",
    "      continue\n",
    "    else: \n",
    "     unique.append(numbers) #liste içinde yoksa listeye ekle\n",
    "print(unique)\n"
   ]
  },
  {
   "cell_type": "markdown",
   "metadata": {},
   "source": [
    "### 🌶️ b) Hadi işi biraz daha zorlaştıralım! \n",
    "\n",
    "\n",
    "Şimdiyse senden `numbers` isimli listedeki tekrar eden elemanları `repeatNumbers` adındaki listeye; tekrar etmeyen elemanları `uniqueNumbers`adındaki listeye kopyalayan yazmanı ve listeleri ekrana bastırmanı bekliyoruz\n",
    "\n",
    "```\n",
    ">Output\n",
    "Tekrar Eden Elemanlar: [10, 10, 15, 15, 15, 20, 20, 20, 20]\n",
    "Tekrar Etmeyen Elemanlar: [5]\n",
    "```"
   ]
  },
  {
   "cell_type": "code",
   "execution_count": 18,
   "metadata": {},
   "outputs": [
    {
     "name": "stdout",
     "output_type": "stream",
     "text": [
      "Tekrar eden elemanlar: [[5, 10, 10, 15, 15, 15, 20, 20, 20, 20], [5, 10, 10, 15, 15, 15, 20, 20, 20, 20], [5, 10, 10, 15, 15, 15, 20, 20, 20, 20], [5, 10, 10, 15, 15, 15, 20, 20, 20, 20], [5, 10, 10, 15, 15, 15, 20, 20, 20, 20], [5, 10, 10, 15, 15, 15, 20, 20, 20, 20], [5, 10, 10, 15, 15, 15, 20, 20, 20, 20], [5, 10, 10, 15, 15, 15, 20, 20, 20, 20], [5, 10, 10, 15, 15, 15, 20, 20, 20, 20], [5, 10, 10, 15, 15, 15, 20, 20, 20, 20]]\n",
      "Tekrar etmeyen elemanlar: []\n"
     ]
    }
   ],
   "source": [
    "# 2.Problemin b Şıkkının Çözümünü Buraya Yazınız\n",
    "numbers =[5,10,10,15,15,15,20,20,20,20]\n",
    "unique= [] \n",
    "repeat=[] # iki boş liste oluşturuldu\n",
    "for i in numbers:\n",
    "    if numbers.count(number)==1: #liste elemanında bir tane varsa unique ekle\n",
    "     unique.append(number)\n",
    "\n",
    "    else:\n",
    "        repeat.append(number) #listede yoksa ekle\n",
    "print(\"Tekrar eden elemanlar:\",repeat)\n",
    "print(\"Tekrar etmeyen elemanlar:\",unique)            "
   ]
  },
  {
   "cell_type": "markdown",
   "metadata": {},
   "source": [
    "# Problem 3\n",
    "sn1 = {1,2,3,4,5}\n",
    "\n",
    "sn2 = {4,5,6,7,8}\n",
    "\n",
    " Verilen 2 adet küme için kesişimlerini, farklarını ve birleşimlerini bulunuz. "
   ]
  },
  {
   "cell_type": "code",
   "execution_count": 19,
   "metadata": {},
   "outputs": [
    {
     "name": "stdout",
     "output_type": "stream",
     "text": [
      "{4, 5}\n"
     ]
    }
   ],
   "source": [
    "# 3.Problemin Çözümünü Buraya Yazınız\n",
    "sn1 ={1,2,3,4,5}\n",
    "sn2 ={4,5,6,7,8}\n",
    "kesisim=sn1.intersection(sn2) #küme kesişimi alalım\n",
    "print(kesisim)"
   ]
  },
  {
   "cell_type": "markdown",
   "metadata": {},
   "source": [
    "# Problem 4\n",
    "\n",
    "Buradaki işlemlerimizin tamamı stringler içindir. Aşağıda verilecek olan metodlar için kendinizin örnek yaratması gerekmektedir. \n",
    "\n",
    "Örneğin `upper` için `string` değişkeni oluştururken` k = \"BAC\"` şeklinde oluşturmayınız. Bunun yerine k değişkenini `k = \"bac`\" şeklinde oluşturmanız `upper` metodundaki değişimi görebilmeniz için daha iyi olacaktır.\n",
    "\n",
    "Bütün metodlardaki değişimin gözle görülür şekilde değişimi beklenmektedir.\n",
    "\n",
    "\n",
    "1- capitalize(), lower(), upper(), swapcase(), title(), replace()\n",
    "\n",
    "2- endswith(), startswith(), find(), index(), count()\n",
    "\n",
    "3- split(), strip(), join(), islower(), isalpha(), isdigit()\n",
    "\n",
    "\n",
    "Yukarıdaki `string` metodlarındaki değişimleri görebildiğimiz bir program yazınız.\n"
   ]
  },
  {
   "cell_type": "code",
   "execution_count": 26,
   "metadata": {},
   "outputs": [
    {
     "name": "stdout",
     "output_type": "stream",
     "text": [
      "Yetgen core i̇le python öğreniyorum\n",
      "yetgen core i̇le python öğreniyorum\n",
      "YETGEN CORE İLE PYTHON ÖĞRENIYORUM\n",
      "yETgEN cORE i̇LE pYTHON ÖĞRENIYORUM\n",
      "Yetgen Core İle Python Öğreniyorum\n",
      "YetGen Core İle şaka atölyesinde şaka öğreniyorum\n",
      "True\n",
      "False\n",
      "16\n",
      "5\n",
      "['YetGen', 'Core', 'İle', 'Python', 'öğreniyorum']\n",
      "YetGen Core İle Python öğreniyorum\n",
      "False\n",
      "False\n"
     ]
    }
   ],
   "source": [
    "# 4.Problemin Çözümünü Buraya Yazınız\n",
    "k =\"YetGen Core İle Python öğreniyorum\"\n",
    "print(k.capitalize()) #ilk kelimenin baş harfini büyük yapar\n",
    "print(k.lower()) #Tamamını küçük harfe verir\n",
    "print(k.upper()) #tamamını büyük harfe çevirir\n",
    "print(k.swapcase()) #büyükse küçük küçükse büyük\n",
    "print(k.title()) #kelime başı büyük\n",
    "print(k.replace(\"Python\",\"şaka atölyesinde şaka\"))\n",
    "print(k.endswith(\"öğreniyorum\")) #bununla mı bitiyor\n",
    "print(k.startswith(\"üniversite\")) #bununla mı bitiyor\n",
    "print(k.find(\"Python\")) #arar dizide\n",
    "print(k.count(\"e\")) #kaç tane bundan var\n",
    "print(k.split(\" \")) #parantez içi yerine virgül at\n",
    "print(k.strip()) #boşlukları siler\n",
    "print(k.isalpha()) #alfabetik mi diye sorar\n",
    "print(k.isdigit()) #rakamlardan mı oluşuyor diye sorar\n",
    "\n"
   ]
  }
 ],
 "metadata": {
  "kernelspec": {
   "display_name": "Python 3.10.5 64-bit",
   "language": "python",
   "name": "python3"
  },
  "language_info": {
   "codemirror_mode": {
    "name": "ipython",
    "version": 3
   },
   "file_extension": ".py",
   "mimetype": "text/x-python",
   "name": "python",
   "nbconvert_exporter": "python",
   "pygments_lexer": "ipython3",
   "version": "3.11.2"
  },
  "orig_nbformat": 4,
  "vscode": {
   "interpreter": {
    "hash": "5026d2d6e7aaaaba093def813beadff083d8733e4a511af01735cbabd156995d"
   }
  }
 },
 "nbformat": 4,
 "nbformat_minor": 2
}
